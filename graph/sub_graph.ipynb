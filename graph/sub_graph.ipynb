{
 "cells": [
  {
   "cell_type": "code",
   "execution_count": 1,
   "id": "5713078d",
   "metadata": {},
   "outputs": [],
   "source": [
    "from typing_extensions import TypedDict\n",
    "from langgraph.graph.state import StateGraph, START"
   ]
  },
  {
   "cell_type": "code",
   "execution_count": 3,
   "id": "b7efd63f",
   "metadata": {},
   "outputs": [],
   "source": [
    "from tracemalloc import start\n",
    "\n",
    "\n",
    "class State(TypedDict):\n",
    "    foo:str\n",
    "\n",
    "def sub_graph_node_1(state:State):\n",
    "    return {\"foo\":'hi'+state['foo']}"
   ]
  },
  {
   "cell_type": "code",
   "execution_count": 4,
   "id": "9783a391",
   "metadata": {},
   "outputs": [
    {
     "data": {
      "text/plain": [
       "{'foo': 'hiworld'}"
      ]
     },
     "execution_count": 4,
     "metadata": {},
     "output_type": "execute_result"
    }
   ],
   "source": [
    "builder = StateGraph(State)\n",
    "builder.add_node(\"node_1\", sub_graph_node_1)\n",
    "builder.add_edge(START, \"node_1\")\n",
    "# builder.add_edge(\"node_1\", END)\n",
    "\n",
    "graph = builder.compile()\n",
    "\n",
    "graph.invoke({\"foo\":\"world\"})"
   ]
  },
  {
   "cell_type": "markdown",
   "id": "1c67d36b",
   "metadata": {},
   "source": [
    "# Shared state schemas"
   ]
  },
  {
   "cell_type": "code",
   "execution_count": 5,
   "id": "4811eb12",
   "metadata": {},
   "outputs": [],
   "source": [
    "class SubgraphState(TypedDict):\n",
    "    foo:str\n",
    "    bar:str\n",
    "\n",
    "def subgraph_node_1(state: SubgraphState):\n",
    "    return {\"bar\": \"bar\"}\n",
    "\n",
    "def subgraph_node_2(state: SubgraphState):\n",
    "    # note that this node is using a state key ('bar') that is only available in the subgraph\n",
    "    # and is sending update on the shared state key ('foo')\n",
    "    return {\"foo\": state[\"foo\"] + state[\"bar\"]}\n",
    "\n",
    "subgraph_builder = StateGraph(SubgraphState)\n",
    "subgraph_builder.add_node(subgraph_node_1)\n",
    "subgraph_builder.add_node(subgraph_node_2)\n",
    "subgraph_builder.add_edge(START, \"subgraph_node_1\")\n",
    "subgraph_builder.add_edge(\"subgraph_node_1\", \"subgraph_node_2\")\n",
    "subgraph = subgraph_builder.compile()"
   ]
  },
  {
   "cell_type": "code",
   "execution_count": 7,
   "id": "5415e3fe",
   "metadata": {},
   "outputs": [
    {
     "data": {
      "text/plain": [
       "{'foo': 'foobar', 'bar': 'bar'}"
      ]
     },
     "execution_count": 7,
     "metadata": {},
     "output_type": "execute_result"
    }
   ],
   "source": [
    "subgraph.invoke({\"foo\":\"foo\"})"
   ]
  },
  {
   "cell_type": "code",
   "execution_count": null,
   "id": "867727d0",
   "metadata": {},
   "outputs": [
    {
     "name": "stdout",
     "output_type": "stream",
     "text": [
      "{'node_1': {'foo': 'hi! foo1'}}\n",
      "{'node_2': {'foo': 'hi! foo1bar'}}\n"
     ]
    }
   ],
   "source": [
    "# Define parent graph\n",
    "class ParentState(TypedDict):\n",
    "    foo: str\n",
    "    big:str\n",
    "\n",
    "def node_1(state: ParentState):\n",
    "    return {\"foo\": \"hi! \" + state[\"foo\"]}\n",
    "\n",
    "builder = StateGraph(ParentState)\n",
    "builder.add_node(\"node_1\", node_1)\n",
    "builder.add_node(\"node_2\", subgraph)\n",
    "builder.add_edge(START, \"node_1\")\n",
    "builder.add_edge(\"node_1\", \"node_2\")\n",
    "graph = builder.compile()\n",
    "\n",
    "for chunk in graph.stream({\"foo\": \"foo1\"}):\n",
    "    print(chunk)\n",
    "\n",
    "# In this example, they share the same state key 'foo'\n",
    "# but the state key 'big' is only available in the parent graph\n",
    "# and is not available in the subgraph\n",
    "# so when we invoke the graph, the state key 'big' is not available in the subgraph\n",
    "# and the subgraph will not be able to update the state key 'big'\n",
    "# so the state key 'big' is not available in the subgraph\n",
    "# and the subgraph will not be able to update the state key 'big'"
   ]
  },
  {
   "cell_type": "markdown",
   "id": "3d365d55",
   "metadata": {},
   "source": [
    "# Different state schemas"
   ]
  },
  {
   "cell_type": "code",
   "execution_count": null,
   "id": "b5ed616e",
   "metadata": {},
   "outputs": [
    {
     "name": "stdout",
     "output_type": "stream",
     "text": [
      "((), {'node_1': {'foo': 'hi! foo'}})\n",
      "(('node_2:1073ff85-ad71-4ea1-9665-97d7cb5b37cd',), {'subgraph_node_1': {'baz': 'baz'}})\n",
      "(('node_2:1073ff85-ad71-4ea1-9665-97d7cb5b37cd',), {'subgraph_node_2': {'bar': 'hi! foobaz'}})\n",
      "((), {'node_2': {'foo': 'hi! foobaz'}})\n"
     ]
    }
   ],
   "source": [
    "# Define subgraph\n",
    "class SubgraphState(TypedDict):\n",
    "    # note that none of these keys are shared with the parent graph state\n",
    "    bar: str\n",
    "    baz: str\n",
    "\n",
    "def subgraph_node_1(state: SubgraphState):\n",
    "    return {\"baz\": \"baz\"}\n",
    "\n",
    "def subgraph_node_2(state: SubgraphState):\n",
    "    return {\"bar\": state[\"bar\"] + state[\"baz\"]}\n",
    "\n",
    "subgraph_builder = StateGraph(SubgraphState)\n",
    "subgraph_builder.add_node(subgraph_node_1)\n",
    "subgraph_builder.add_node(subgraph_node_2)\n",
    "subgraph_builder.add_edge(START, \"subgraph_node_1\")\n",
    "subgraph_builder.add_edge(\"subgraph_node_1\", \"subgraph_node_2\")\n",
    "subgraph = subgraph_builder.compile()\n",
    "\n",
    "# Define parent graph\n",
    "class ParentState(TypedDict):\n",
    "    foo: str\n",
    "\n",
    "def node_1(state: ParentState):\n",
    "    return {\"foo\": \"hi! \" + state[\"foo\"]}\n",
    "\n",
    "def node_2(state: ParentState):\n",
    "    response = subgraph.invoke({\"bar\": state[\"foo\"]})  \n",
    "    return {\"foo\": response[\"bar\"]}  \n",
    "\n",
    "\n",
    "builder = StateGraph(ParentState)\n",
    "builder.add_node(\"node_1\", node_1)\n",
    "builder.add_node(\"node_2\", node_2)\n",
    "builder.add_edge(START, \"node_1\")\n",
    "builder.add_edge(\"node_1\", \"node_2\")\n",
    "graph = builder.compile()\n",
    "\n",
    "for chunk in graph.stream({\"foo\": \"foo\"}, subgraphs=True):\n",
    "    print(chunk)\n",
    "\n",
    "# in this func, call the subgraph in main graph, and the state of the subgraph is not shared with the main graph\n",
    "# just use the response of the subgraph as the input of the main graph"
   ]
  },
  {
   "cell_type": "markdown",
   "id": "066c97c1",
   "metadata": {},
   "source": [
    "# Add persistence"
   ]
  },
  {
   "cell_type": "markdown",
   "id": "0893f40d",
   "metadata": {},
   "source": [
    "You only need to provide the checkpointer when compiling the parent graph. LangGraph will automatically propagate the checkpointer to the child subgraphs."
   ]
  },
  {
   "cell_type": "code",
   "execution_count": 2,
   "id": "ad264563",
   "metadata": {},
   "outputs": [],
   "source": [
    "from langgraph.graph import START, StateGraph\n",
    "from langgraph.checkpoint.memory import MemorySaver\n",
    "from typing_extensions import TypedDict\n",
    "\n",
    "class State(TypedDict):\n",
    "    foo: str\n",
    "\n",
    "# Subgraph\n",
    "\n",
    "def subgraph_node_1(state: State):\n",
    "    return {\"foo\": state[\"foo\"] + \"bar\"}\n",
    "\n",
    "subgraph_builder = StateGraph(State)\n",
    "subgraph_builder.add_node(subgraph_node_1)\n",
    "subgraph_builder.add_edge(START, \"subgraph_node_1\")\n",
    "subgraph = subgraph_builder.compile()\n",
    "\n",
    "# Parent graph\n",
    "\n",
    "builder = StateGraph(State)\n",
    "builder.add_node(\"node_1\", subgraph)\n",
    "builder.add_edge(START, \"node_1\")\n",
    "\n",
    "checkpointer = MemorySaver()\n",
    "graph = builder.compile(checkpointer=checkpointer)"
   ]
  },
  {
   "cell_type": "code",
   "execution_count": 3,
   "id": "25bf230b",
   "metadata": {},
   "outputs": [
    {
     "data": {
      "text/plain": [
       "<generator object Pregel.stream at 0x1066ad220>"
      ]
     },
     "execution_count": 3,
     "metadata": {},
     "output_type": "execute_result"
    }
   ],
   "source": [
    "graph.stream({\"foo\": \"foo\"}, subgraphs=True)    "
   ]
  },
  {
   "cell_type": "markdown",
   "id": "d29df481",
   "metadata": {},
   "source": [
    "This is to get the state with the persistance(memory saver)"
   ]
  },
  {
   "cell_type": "code",
   "execution_count": null,
   "id": "441f1707",
   "metadata": {},
   "outputs": [
    {
     "data": {
      "text/plain": [
       "{'foo': 'bar'}"
      ]
     },
     "execution_count": 4,
     "metadata": {},
     "output_type": "execute_result"
    }
   ],
   "source": [
    "from langgraph.graph import START, StateGraph\n",
    "from langgraph.checkpoint.memory import MemorySaver\n",
    "from langgraph.types import interrupt, Command\n",
    "from typing_extensions import TypedDict\n",
    "\n",
    "class State(TypedDict):\n",
    "    foo: str\n",
    "\n",
    "# Subgraph\n",
    "\n",
    "def subgraph_node_1(state: State):\n",
    "    value = interrupt(\"Provide value:\")\n",
    "    return {\"foo\": state[\"foo\"] + value}\n",
    "\n",
    "subgraph_builder = StateGraph(State)\n",
    "subgraph_builder.add_node(subgraph_node_1)\n",
    "subgraph_builder.add_edge(START, \"subgraph_node_1\")\n",
    "\n",
    "subgraph = subgraph_builder.compile()\n",
    "\n",
    "# Parent graph\n",
    "\n",
    "builder = StateGraph(State)\n",
    "builder.add_node(\"node_1\", subgraph)\n",
    "builder.add_edge(START, \"node_1\")\n",
    "\n",
    "checkpointer = MemorySaver()\n",
    "graph = builder.compile(checkpointer=checkpointer)\n",
    "\n",
    "config = {\"configurable\": {\"thread_id\": \"1\"}}\n",
    "\n",
    "graph.invoke({\"foo\": \"\"}, config)\n",
    "parent_state = graph.get_state(config)\n",
    "subgraph_state = graph.get_state(config, subgraphs=True).tasks[0].state  \n",
    "\n",
    "# resume the subgraph\n",
    "graph.invoke(Command(resume=\"bar\"), config)\n",
    "\n"
   ]
  },
  {
   "cell_type": "code",
   "execution_count": null,
   "id": "b7ab5e09",
   "metadata": {},
   "outputs": [
    {
     "data": {
      "text/plain": [
       "StateSnapshot(values={'foo': ''}, next=('node_1',), config={'configurable': {'thread_id': '1', 'checkpoint_ns': '', 'checkpoint_id': '1f08190e-6346-6404-8000-374ee05ee213'}}, metadata={'source': 'loop', 'step': 0, 'parents': {}}, created_at='2025-08-25T08:52:58.595221+00:00', parent_config={'configurable': {'thread_id': '1', 'checkpoint_ns': '', 'checkpoint_id': '1f08190e-6345-646e-bfff-db73716a12b5'}}, tasks=(PregelTask(id='498d2642-99d9-f264-eb7b-13d7bc917e3b', name='node_1', path=('__pregel_pull', 'node_1'), error=None, interrupts=(Interrupt(value='Provide value:', id='66e92064bb03eec5a5db9e8a7ae28e77'),), state={'configurable': {'thread_id': '1', 'checkpoint_ns': 'node_1:498d2642-99d9-f264-eb7b-13d7bc917e3b'}}, result=None),), interrupts=(Interrupt(value='Provide value:', id='66e92064bb03eec5a5db9e8a7ae28e77'),))"
      ]
     },
     "execution_count": 6,
     "metadata": {},
     "output_type": "execute_result"
    }
   ],
   "source": []
  },
  {
   "cell_type": "code",
   "execution_count": 5,
   "id": "37a02ad5",
   "metadata": {},
   "outputs": [
    {
     "name": "stdout",
     "output_type": "stream",
     "text": [
      "((), {'node_1': {'foo': 'hi! foo'}})\n",
      "(('node_2:4657abcb-566d-77cf-35cc-e08b942ac51e',), {'subgraph_node_1': {'bar': 'bar'}})\n",
      "(('node_2:4657abcb-566d-77cf-35cc-e08b942ac51e',), {'subgraph_node_2': {'foo': 'hi! foobar'}})\n",
      "((), {'node_2': {'foo': 'hi! foobar'}})\n"
     ]
    }
   ],
   "source": [
    "from typing_extensions import TypedDict\n",
    "from langgraph.graph.state import StateGraph, START\n",
    "\n",
    "# Define subgraph\n",
    "class SubgraphState(TypedDict):\n",
    "    foo: str\n",
    "    bar: str\n",
    "\n",
    "def subgraph_node_1(state: SubgraphState):\n",
    "    return {\"bar\": \"bar\"}\n",
    "\n",
    "def subgraph_node_2(state: SubgraphState):\n",
    "    # note that this node is using a state key ('bar') that is only available in the subgraph\n",
    "    # and is sending update on the shared state key ('foo')\n",
    "    return {\"foo\": state[\"foo\"] + state[\"bar\"]}\n",
    "\n",
    "subgraph_builder = StateGraph(SubgraphState)\n",
    "subgraph_builder.add_node(subgraph_node_1)\n",
    "subgraph_builder.add_node(subgraph_node_2)\n",
    "subgraph_builder.add_edge(START, \"subgraph_node_1\")\n",
    "subgraph_builder.add_edge(\"subgraph_node_1\", \"subgraph_node_2\")\n",
    "subgraph = subgraph_builder.compile()\n",
    "\n",
    "# Define parent graph\n",
    "class ParentState(TypedDict):\n",
    "    foo: str\n",
    "\n",
    "def node_1(state: ParentState):\n",
    "    return {\"foo\": \"hi! \" + state[\"foo\"]}\n",
    "\n",
    "builder = StateGraph(ParentState)\n",
    "builder.add_node(\"node_1\", node_1)\n",
    "builder.add_node(\"node_2\", subgraph)\n",
    "builder.add_edge(START, \"node_1\")\n",
    "builder.add_edge(\"node_1\", \"node_2\")\n",
    "graph = builder.compile()\n",
    "\n",
    "for chunk in graph.stream(\n",
    "    {\"foo\": \"foo\"},\n",
    "    stream_mode=\"updates\",\n",
    "    subgraphs=True, \n",
    "):\n",
    "    print(chunk)"
   ]
  },
  {
   "cell_type": "code",
   "execution_count": null,
   "id": "889c6a58",
   "metadata": {},
   "outputs": [],
   "source": []
  }
 ],
 "metadata": {
  "kernelspec": {
   "display_name": "base",
   "language": "python",
   "name": "python3"
  },
  "language_info": {
   "codemirror_mode": {
    "name": "ipython",
    "version": 3
   },
   "file_extension": ".py",
   "mimetype": "text/x-python",
   "name": "python",
   "nbconvert_exporter": "python",
   "pygments_lexer": "ipython3",
   "version": "3.12.7"
  }
 },
 "nbformat": 4,
 "nbformat_minor": 5
}
